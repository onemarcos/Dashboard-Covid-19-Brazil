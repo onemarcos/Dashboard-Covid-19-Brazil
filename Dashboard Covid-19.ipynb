{
 "cells": [
  {
   "cell_type": "code",
   "execution_count": 57,
   "id": "5dd073b9",
   "metadata": {},
   "outputs": [],
   "source": [
    "import dash\n",
    "from dash import dcc\n",
    "from dash import html\n",
    "from dash.dependencies import Input, Output\n",
    "import dash_bootstrap_components as dbc\n",
    "import plotly.express as px\n",
    "import plotly.graph_objects as go\n",
    "import numpy as np\n",
    "import pandas as pd\n",
    "import json"
   ]
  },
  {
   "cell_type": "markdown",
   "id": "b06601fe",
   "metadata": {},
   "source": [
    "#### First Step: Filtering the data\n",
    "This step is needed only once"
   ]
  },
  {
   "cell_type": "code",
   "execution_count": 58,
   "id": "f686d9f1",
   "metadata": {},
   "outputs": [],
   "source": [
    "#data from https://covid.saude.gov.br/\n",
    "#df = pd.read_csv('HIST_PAINEL_COVIDBR_2022_Parte1_27jun2022.csv', sep=';', on_bad_lines='skip')"
   ]
  },
  {
   "cell_type": "code",
   "execution_count": 59,
   "id": "4f0c173c",
   "metadata": {},
   "outputs": [],
   "source": [
    "#df_states = df[~df['estado'].isna()]\n",
    "#df_states = df[(~df['estado'].isna()) & (df['codmun'].isna())] #< removes data from cities and leaves only states\n",
    "#df_brazil = df[df['regiao'] == 'Brasil']"
   ]
  },
  {
   "cell_type": "code",
   "execution_count": 60,
   "id": "5d452aae",
   "metadata": {},
   "outputs": [],
   "source": [
    "#df_states.to_csv('df_states.csv')\n",
    "#df_brazil.to_csv('df_brazil.csv')"
   ]
  },
  {
   "cell_type": "markdown",
   "id": "9c21caff",
   "metadata": {},
   "source": [
    "#### Second Step: Setting Parameters and Visualizing Data "
   ]
  },
  {
   "cell_type": "code",
   "execution_count": 61,
   "id": "9de63cf5",
   "metadata": {},
   "outputs": [],
   "source": [
    "#Central positions\n",
    "CENTER_LAT, CENTER_LON = -14.272572694355336,-51.25567404158474"
   ]
  },
  {
   "cell_type": "code",
   "execution_count": 62,
   "id": "05d46571",
   "metadata": {},
   "outputs": [],
   "source": [
    "df_states = pd.read_csv('df_states.csv')\n",
    "df_brazil = pd.read_csv('df_brazil.csv')\n",
    "df_data = df_states[df_states['estado']=='SP'] "
   ]
  },
  {
   "cell_type": "code",
   "execution_count": 63,
   "id": "3ae2d2d6",
   "metadata": {},
   "outputs": [
    {
     "data": {
      "text/plain": [
       "Index(['Unnamed: 0', 'regiao', 'estado', 'municipio', 'coduf', 'codmun',\n",
       "       'codRegiaoSaude', 'nomeRegiaoSaude', 'data', 'semanaEpi',\n",
       "       'populacaoTCU2019', 'casosAcumulado', 'casosNovos', 'obitosAcumulado',\n",
       "       'obitosNovos', 'Recuperadosnovos', 'emAcompanhamentoNovos',\n",
       "       'interior/metropolitana'],\n",
       "      dtype='object')"
      ]
     },
     "execution_count": 63,
     "metadata": {},
     "output_type": "execute_result"
    }
   ],
   "source": [
    "df_states.columns"
   ]
  },
  {
   "cell_type": "code",
   "execution_count": 64,
   "id": "d06a716e",
   "metadata": {},
   "outputs": [],
   "source": [
    "select_columns = {'casosAcumulado':'Casos Acumulado',\n",
    "'casosNovos':'Novos Casos',\n",
    "'obitosAcumulado':'Obitos Totais',\n",
    "'obitosNovos':'Obitos por dia'}"
   ]
  },
  {
   "cell_type": "code",
   "execution_count": 65,
   "id": "11418fdc",
   "metadata": {},
   "outputs": [
    {
     "data": {
      "text/plain": [
       "dict"
      ]
     },
     "execution_count": 65,
     "metadata": {},
     "output_type": "execute_result"
    }
   ],
   "source": [
    "brazil_states = json.load(open('geojson/brazil_geo.json', 'r'))\n",
    "type(brazil_states)\n",
    "brazil_states.keys()\n",
    "type(brazil_states['features'])\n",
    "type(brazil_states['features'][0])"
   ]
  },
  {
   "cell_type": "code",
   "execution_count": 66,
   "id": "e7d0f190",
   "metadata": {},
   "outputs": [
    {
     "data": {
      "text/plain": [
       "dict_keys(['type', 'id', 'properties', 'geometry'])"
      ]
     },
     "execution_count": 66,
     "metadata": {},
     "output_type": "execute_result"
    }
   ],
   "source": [
    "brazil_states['features'][0].keys()"
   ]
  },
  {
   "cell_type": "code",
   "execution_count": 67,
   "id": "d6669dc4",
   "metadata": {},
   "outputs": [],
   "source": [
    "#brazil_states['features'][0]['geometry']"
   ]
  },
  {
   "cell_type": "code",
   "execution_count": 68,
   "id": "74ab3aa7",
   "metadata": {},
   "outputs": [],
   "source": [
    "app = dash.Dash(__name__, external_stylesheets=[dbc.themes.CYBORG])"
   ]
  },
  {
   "cell_type": "code",
   "execution_count": 69,
   "id": "3f91aa3a",
   "metadata": {},
   "outputs": [
    {
     "data": {
      "text/html": [
       "<div>\n",
       "<style scoped>\n",
       "    .dataframe tbody tr th:only-of-type {\n",
       "        vertical-align: middle;\n",
       "    }\n",
       "\n",
       "    .dataframe tbody tr th {\n",
       "        vertical-align: top;\n",
       "    }\n",
       "\n",
       "    .dataframe thead th {\n",
       "        text-align: right;\n",
       "    }\n",
       "</style>\n",
       "<table border=\"1\" class=\"dataframe\">\n",
       "  <thead>\n",
       "    <tr style=\"text-align: right;\">\n",
       "      <th></th>\n",
       "      <th>Unnamed: 0</th>\n",
       "      <th>regiao</th>\n",
       "      <th>estado</th>\n",
       "      <th>municipio</th>\n",
       "      <th>coduf</th>\n",
       "      <th>codmun</th>\n",
       "      <th>codRegiaoSaude</th>\n",
       "      <th>nomeRegiaoSaude</th>\n",
       "      <th>data</th>\n",
       "      <th>semanaEpi</th>\n",
       "      <th>populacaoTCU2019</th>\n",
       "      <th>casosAcumulado</th>\n",
       "      <th>casosNovos</th>\n",
       "      <th>obitosAcumulado</th>\n",
       "      <th>obitosNovos</th>\n",
       "      <th>Recuperadosnovos</th>\n",
       "      <th>emAcompanhamentoNovos</th>\n",
       "      <th>interior/metropolitana</th>\n",
       "    </tr>\n",
       "  </thead>\n",
       "  <tbody>\n",
       "    <tr>\n",
       "      <th>0</th>\n",
       "      <td>178</td>\n",
       "      <td>Norte</td>\n",
       "      <td>RO</td>\n",
       "      <td>NaN</td>\n",
       "      <td>11</td>\n",
       "      <td>NaN</td>\n",
       "      <td>NaN</td>\n",
       "      <td>NaN</td>\n",
       "      <td>2022-01-01</td>\n",
       "      <td>52</td>\n",
       "      <td>1777225.0</td>\n",
       "      <td>284660.0</td>\n",
       "      <td>34</td>\n",
       "      <td>6737</td>\n",
       "      <td>3</td>\n",
       "      <td>NaN</td>\n",
       "      <td>NaN</td>\n",
       "      <td>NaN</td>\n",
       "    </tr>\n",
       "    <tr>\n",
       "      <th>1</th>\n",
       "      <td>179</td>\n",
       "      <td>Norte</td>\n",
       "      <td>RO</td>\n",
       "      <td>NaN</td>\n",
       "      <td>11</td>\n",
       "      <td>NaN</td>\n",
       "      <td>NaN</td>\n",
       "      <td>NaN</td>\n",
       "      <td>2022-01-02</td>\n",
       "      <td>1</td>\n",
       "      <td>1777225.0</td>\n",
       "      <td>284692.0</td>\n",
       "      <td>32</td>\n",
       "      <td>6739</td>\n",
       "      <td>2</td>\n",
       "      <td>NaN</td>\n",
       "      <td>NaN</td>\n",
       "      <td>NaN</td>\n",
       "    </tr>\n",
       "    <tr>\n",
       "      <th>2</th>\n",
       "      <td>180</td>\n",
       "      <td>Norte</td>\n",
       "      <td>RO</td>\n",
       "      <td>NaN</td>\n",
       "      <td>11</td>\n",
       "      <td>NaN</td>\n",
       "      <td>NaN</td>\n",
       "      <td>NaN</td>\n",
       "      <td>2022-01-03</td>\n",
       "      <td>1</td>\n",
       "      <td>1777225.0</td>\n",
       "      <td>284783.0</td>\n",
       "      <td>91</td>\n",
       "      <td>6742</td>\n",
       "      <td>3</td>\n",
       "      <td>NaN</td>\n",
       "      <td>NaN</td>\n",
       "      <td>NaN</td>\n",
       "    </tr>\n",
       "    <tr>\n",
       "      <th>3</th>\n",
       "      <td>181</td>\n",
       "      <td>Norte</td>\n",
       "      <td>RO</td>\n",
       "      <td>NaN</td>\n",
       "      <td>11</td>\n",
       "      <td>NaN</td>\n",
       "      <td>NaN</td>\n",
       "      <td>NaN</td>\n",
       "      <td>2022-01-04</td>\n",
       "      <td>1</td>\n",
       "      <td>1777225.0</td>\n",
       "      <td>285037.0</td>\n",
       "      <td>254</td>\n",
       "      <td>6745</td>\n",
       "      <td>3</td>\n",
       "      <td>NaN</td>\n",
       "      <td>NaN</td>\n",
       "      <td>NaN</td>\n",
       "    </tr>\n",
       "    <tr>\n",
       "      <th>4</th>\n",
       "      <td>182</td>\n",
       "      <td>Norte</td>\n",
       "      <td>RO</td>\n",
       "      <td>NaN</td>\n",
       "      <td>11</td>\n",
       "      <td>NaN</td>\n",
       "      <td>NaN</td>\n",
       "      <td>NaN</td>\n",
       "      <td>2022-01-05</td>\n",
       "      <td>1</td>\n",
       "      <td>1777225.0</td>\n",
       "      <td>285269.0</td>\n",
       "      <td>232</td>\n",
       "      <td>6748</td>\n",
       "      <td>3</td>\n",
       "      <td>NaN</td>\n",
       "      <td>NaN</td>\n",
       "      <td>NaN</td>\n",
       "    </tr>\n",
       "  </tbody>\n",
       "</table>\n",
       "</div>"
      ],
      "text/plain": [
       "   Unnamed: 0 regiao estado  municipio  coduf  codmun  codRegiaoSaude  \\\n",
       "0         178  Norte     RO        NaN     11     NaN             NaN   \n",
       "1         179  Norte     RO        NaN     11     NaN             NaN   \n",
       "2         180  Norte     RO        NaN     11     NaN             NaN   \n",
       "3         181  Norte     RO        NaN     11     NaN             NaN   \n",
       "4         182  Norte     RO        NaN     11     NaN             NaN   \n",
       "\n",
       "   nomeRegiaoSaude        data  semanaEpi  populacaoTCU2019  casosAcumulado  \\\n",
       "0              NaN  2022-01-01         52         1777225.0        284660.0   \n",
       "1              NaN  2022-01-02          1         1777225.0        284692.0   \n",
       "2              NaN  2022-01-03          1         1777225.0        284783.0   \n",
       "3              NaN  2022-01-04          1         1777225.0        285037.0   \n",
       "4              NaN  2022-01-05          1         1777225.0        285269.0   \n",
       "\n",
       "   casosNovos  obitosAcumulado  obitosNovos  Recuperadosnovos  \\\n",
       "0          34             6737            3               NaN   \n",
       "1          32             6739            2               NaN   \n",
       "2          91             6742            3               NaN   \n",
       "3         254             6745            3               NaN   \n",
       "4         232             6748            3               NaN   \n",
       "\n",
       "   emAcompanhamentoNovos  interior/metropolitana  \n",
       "0                    NaN                     NaN  \n",
       "1                    NaN                     NaN  \n",
       "2                    NaN                     NaN  \n",
       "3                    NaN                     NaN  \n",
       "4                    NaN                     NaN  "
      ]
     },
     "execution_count": 69,
     "metadata": {},
     "output_type": "execute_result"
    }
   ],
   "source": [
    "df_states.head()"
   ]
  },
  {
   "cell_type": "code",
   "execution_count": 70,
   "id": "fb585be9",
   "metadata": {},
   "outputs": [],
   "source": [
    "df_states_ = df_states[df_states['data'] == '2022-01-01']"
   ]
  },
  {
   "cell_type": "code",
   "execution_count": 71,
   "id": "f515bb2b",
   "metadata": {},
   "outputs": [
    {
     "data": {
      "application/vnd.plotly.v1+json": {
       "config": {
        "plotlyServerURL": "https://plot.ly"
       },
       "data": [
        {
         "type": "scatter",
         "x": [
          "2022-01-01",
          "2022-01-02",
          "2022-01-03",
          "2022-01-04",
          "2022-01-05",
          "2022-01-06",
          "2022-01-07",
          "2022-01-08",
          "2022-01-09",
          "2022-01-10",
          "2022-01-11",
          "2022-01-12",
          "2022-01-13",
          "2022-01-14",
          "2022-01-15",
          "2022-01-16",
          "2022-01-17",
          "2022-01-18",
          "2022-01-19",
          "2022-01-20",
          "2022-01-21",
          "2022-01-22",
          "2022-01-23",
          "2022-01-24",
          "2022-01-25",
          "2022-01-26",
          "2022-01-27",
          "2022-01-28",
          "2022-01-29",
          "2022-01-30",
          "2022-01-31",
          "2022-02-01",
          "2022-02-02",
          "2022-02-03",
          "2022-02-04",
          "2022-02-05",
          "2022-02-06",
          "2022-02-07",
          "2022-02-08",
          "2022-02-09",
          "2022-02-10",
          "2022-02-11",
          "2022-02-12",
          "2022-02-13",
          "2022-02-14",
          "2022-02-15",
          "2022-02-16",
          "2022-02-17",
          "2022-02-18",
          "2022-02-19",
          "2022-02-20",
          "2022-02-21",
          "2022-02-22",
          "2022-02-23",
          "2022-02-24",
          "2022-02-25",
          "2022-02-26",
          "2022-02-27",
          "2022-02-28",
          "2022-03-01",
          "2022-03-02",
          "2022-03-03",
          "2022-03-04",
          "2022-03-05",
          "2022-03-06",
          "2022-03-07",
          "2022-03-08",
          "2022-03-09",
          "2022-03-10",
          "2022-03-11",
          "2022-03-12",
          "2022-03-13",
          "2022-03-14",
          "2022-03-15",
          "2022-03-16",
          "2022-03-17",
          "2022-03-18",
          "2022-03-19",
          "2022-03-20",
          "2022-03-21",
          "2022-03-22",
          "2022-03-23",
          "2022-03-24",
          "2022-03-25",
          "2022-03-26",
          "2022-03-27",
          "2022-03-28",
          "2022-03-29",
          "2022-03-30",
          "2022-03-31",
          "2022-04-01",
          "2022-04-02",
          "2022-04-03",
          "2022-04-04",
          "2022-04-05",
          "2022-04-06",
          "2022-04-07",
          "2022-04-08",
          "2022-04-09",
          "2022-04-10",
          "2022-04-11",
          "2022-04-12",
          "2022-04-13",
          "2022-04-14",
          "2022-04-15",
          "2022-04-16",
          "2022-04-17",
          "2022-04-18",
          "2022-04-19",
          "2022-04-20",
          "2022-04-21",
          "2022-04-22",
          "2022-04-23",
          "2022-04-24",
          "2022-04-25",
          "2022-04-26",
          "2022-04-27",
          "2022-04-28",
          "2022-04-29",
          "2022-04-30",
          "2022-05-01",
          "2022-05-02",
          "2022-05-03",
          "2022-05-04",
          "2022-05-05",
          "2022-05-06",
          "2022-05-07",
          "2022-05-08",
          "2022-05-09",
          "2022-05-10",
          "2022-05-11",
          "2022-05-12",
          "2022-05-13",
          "2022-05-14",
          "2022-05-15",
          "2022-05-16",
          "2022-05-17",
          "2022-05-18",
          "2022-05-19",
          "2022-05-20",
          "2022-05-21",
          "2022-05-22",
          "2022-05-23",
          "2022-05-24",
          "2022-05-25",
          "2022-05-26",
          "2022-05-27",
          "2022-05-28",
          "2022-05-29",
          "2022-05-30",
          "2022-05-31",
          "2022-06-01",
          "2022-06-02",
          "2022-06-03",
          "2022-06-04",
          "2022-06-05",
          "2022-06-06",
          "2022-06-07",
          "2022-06-08",
          "2022-06-09",
          "2022-06-10",
          "2022-06-11",
          "2022-06-12",
          "2022-06-13",
          "2022-06-14",
          "2022-06-15",
          "2022-06-16",
          "2022-06-17",
          "2022-06-18",
          "2022-06-19",
          "2022-06-20",
          "2022-06-21",
          "2022-06-22",
          "2022-06-23",
          "2022-06-24",
          "2022-06-25",
          "2022-06-26",
          "2022-06-27"
         ],
         "y": [
          4456469,
          4456581,
          4456745,
          4458689,
          4461651,
          4464482,
          4467399,
          4471113,
          4473190,
          4474109,
          4478468,
          4483053,
          4488929,
          4497401,
          4498145,
          4500516,
          4501846,
          4513255,
          4523521,
          4534066,
          4545225,
          4545225,
          4562990,
          4565699,
          4578916,
          4592100,
          4609121,
          4624017,
          4638360,
          4646106,
          4646106,
          4665845,
          4666941,
          4704552,
          4704552,
          4740153,
          4745504,
          4749089,
          4764785,
          4782249,
          4801295,
          4821893,
          4837857,
          4844670,
          4848816,
          4864493,
          4882294,
          4898289,
          4913098,
          4929347,
          4935771,
          4938241,
          4954240,
          4969667,
          4984895,
          4999659,
          5010949,
          5015814,
          5017453,
          5020412,
          5023390,
          5033583,
          5045451,
          5057594,
          5061077,
          5062261,
          5074665,
          5087770,
          5100545,
          5112728,
          5123695,
          5128738,
          5130044,
          5142009,
          5150824,
          5159850,
          5169415,
          5177066,
          5182365,
          5183837,
          5193619,
          5202983,
          5211936,
          5221236,
          5228413,
          5232374,
          5234022,
          5241454,
          5249267,
          5257693,
          5264521,
          5271171,
          5273295,
          5273951,
          5280282,
          5287122,
          5294608,
          5301001,
          5306969,
          5309342,
          5310464,
          5318694,
          5326131,
          5332454,
          5336957,
          5337459,
          5337459,
          5340147,
          5340147,
          5354592,
          5360823,
          5362377,
          5362856,
          5363464,
          5364097,
          5369822,
          5375515,
          5380307,
          5384320,
          5389345,
          5392069,
          5392656,
          5399373,
          5405572,
          5411545,
          5417649,
          5422332,
          5424473,
          5424960,
          5429696,
          5434438,
          5438958,
          5443893,
          5447605,
          5449941,
          5451144,
          5455815,
          5458472,
          5459629,
          5459629,
          5459629,
          5467208,
          5468187,
          5474146,
          5480732,
          5487134,
          5493061,
          5499768,
          5502590,
          5503518,
          5511939,
          5520290,
          5527726,
          5527726,
          5527726,
          5527726,
          5527726,
          5557582,
          5566549,
          5572697,
          5583254,
          5591276,
          5595235,
          5596714,
          5596714,
          5616538,
          5625369,
          5628078,
          5631464,
          5633543,
          5635140,
          5645947,
          5655840,
          5664927,
          5665324,
          5682235,
          5685414,
          5687485
         ]
        }
       ],
       "layout": {
        "autosize": true,
        "margin": {},
        "paper_bgcolor": "#242424",
        "plot_bgcolor": "#242424",
        "template": {
         "data": {
          "bar": [
           {
            "error_x": {
             "color": "#f2f5fa"
            },
            "error_y": {
             "color": "#f2f5fa"
            },
            "marker": {
             "line": {
              "color": "rgb(17,17,17)",
              "width": 0.5
             },
             "pattern": {
              "fillmode": "overlay",
              "size": 10,
              "solidity": 0.2
             }
            },
            "type": "bar"
           }
          ],
          "barpolar": [
           {
            "marker": {
             "line": {
              "color": "rgb(17,17,17)",
              "width": 0.5
             },
             "pattern": {
              "fillmode": "overlay",
              "size": 10,
              "solidity": 0.2
             }
            },
            "type": "barpolar"
           }
          ],
          "carpet": [
           {
            "aaxis": {
             "endlinecolor": "#A2B1C6",
             "gridcolor": "#506784",
             "linecolor": "#506784",
             "minorgridcolor": "#506784",
             "startlinecolor": "#A2B1C6"
            },
            "baxis": {
             "endlinecolor": "#A2B1C6",
             "gridcolor": "#506784",
             "linecolor": "#506784",
             "minorgridcolor": "#506784",
             "startlinecolor": "#A2B1C6"
            },
            "type": "carpet"
           }
          ],
          "choropleth": [
           {
            "colorbar": {
             "outlinewidth": 0,
             "ticks": ""
            },
            "type": "choropleth"
           }
          ],
          "contour": [
           {
            "colorbar": {
             "outlinewidth": 0,
             "ticks": ""
            },
            "colorscale": [
             [
              0,
              "#0d0887"
             ],
             [
              0.1111111111111111,
              "#46039f"
             ],
             [
              0.2222222222222222,
              "#7201a8"
             ],
             [
              0.3333333333333333,
              "#9c179e"
             ],
             [
              0.4444444444444444,
              "#bd3786"
             ],
             [
              0.5555555555555556,
              "#d8576b"
             ],
             [
              0.6666666666666666,
              "#ed7953"
             ],
             [
              0.7777777777777778,
              "#fb9f3a"
             ],
             [
              0.8888888888888888,
              "#fdca26"
             ],
             [
              1,
              "#f0f921"
             ]
            ],
            "type": "contour"
           }
          ],
          "contourcarpet": [
           {
            "colorbar": {
             "outlinewidth": 0,
             "ticks": ""
            },
            "type": "contourcarpet"
           }
          ],
          "heatmap": [
           {
            "colorbar": {
             "outlinewidth": 0,
             "ticks": ""
            },
            "colorscale": [
             [
              0,
              "#0d0887"
             ],
             [
              0.1111111111111111,
              "#46039f"
             ],
             [
              0.2222222222222222,
              "#7201a8"
             ],
             [
              0.3333333333333333,
              "#9c179e"
             ],
             [
              0.4444444444444444,
              "#bd3786"
             ],
             [
              0.5555555555555556,
              "#d8576b"
             ],
             [
              0.6666666666666666,
              "#ed7953"
             ],
             [
              0.7777777777777778,
              "#fb9f3a"
             ],
             [
              0.8888888888888888,
              "#fdca26"
             ],
             [
              1,
              "#f0f921"
             ]
            ],
            "type": "heatmap"
           }
          ],
          "heatmapgl": [
           {
            "colorbar": {
             "outlinewidth": 0,
             "ticks": ""
            },
            "colorscale": [
             [
              0,
              "#0d0887"
             ],
             [
              0.1111111111111111,
              "#46039f"
             ],
             [
              0.2222222222222222,
              "#7201a8"
             ],
             [
              0.3333333333333333,
              "#9c179e"
             ],
             [
              0.4444444444444444,
              "#bd3786"
             ],
             [
              0.5555555555555556,
              "#d8576b"
             ],
             [
              0.6666666666666666,
              "#ed7953"
             ],
             [
              0.7777777777777778,
              "#fb9f3a"
             ],
             [
              0.8888888888888888,
              "#fdca26"
             ],
             [
              1,
              "#f0f921"
             ]
            ],
            "type": "heatmapgl"
           }
          ],
          "histogram": [
           {
            "marker": {
             "pattern": {
              "fillmode": "overlay",
              "size": 10,
              "solidity": 0.2
             }
            },
            "type": "histogram"
           }
          ],
          "histogram2d": [
           {
            "colorbar": {
             "outlinewidth": 0,
             "ticks": ""
            },
            "colorscale": [
             [
              0,
              "#0d0887"
             ],
             [
              0.1111111111111111,
              "#46039f"
             ],
             [
              0.2222222222222222,
              "#7201a8"
             ],
             [
              0.3333333333333333,
              "#9c179e"
             ],
             [
              0.4444444444444444,
              "#bd3786"
             ],
             [
              0.5555555555555556,
              "#d8576b"
             ],
             [
              0.6666666666666666,
              "#ed7953"
             ],
             [
              0.7777777777777778,
              "#fb9f3a"
             ],
             [
              0.8888888888888888,
              "#fdca26"
             ],
             [
              1,
              "#f0f921"
             ]
            ],
            "type": "histogram2d"
           }
          ],
          "histogram2dcontour": [
           {
            "colorbar": {
             "outlinewidth": 0,
             "ticks": ""
            },
            "colorscale": [
             [
              0,
              "#0d0887"
             ],
             [
              0.1111111111111111,
              "#46039f"
             ],
             [
              0.2222222222222222,
              "#7201a8"
             ],
             [
              0.3333333333333333,
              "#9c179e"
             ],
             [
              0.4444444444444444,
              "#bd3786"
             ],
             [
              0.5555555555555556,
              "#d8576b"
             ],
             [
              0.6666666666666666,
              "#ed7953"
             ],
             [
              0.7777777777777778,
              "#fb9f3a"
             ],
             [
              0.8888888888888888,
              "#fdca26"
             ],
             [
              1,
              "#f0f921"
             ]
            ],
            "type": "histogram2dcontour"
           }
          ],
          "mesh3d": [
           {
            "colorbar": {
             "outlinewidth": 0,
             "ticks": ""
            },
            "type": "mesh3d"
           }
          ],
          "parcoords": [
           {
            "line": {
             "colorbar": {
              "outlinewidth": 0,
              "ticks": ""
             }
            },
            "type": "parcoords"
           }
          ],
          "pie": [
           {
            "automargin": true,
            "type": "pie"
           }
          ],
          "scatter": [
           {
            "marker": {
             "line": {
              "color": "#283442"
             }
            },
            "type": "scatter"
           }
          ],
          "scatter3d": [
           {
            "line": {
             "colorbar": {
              "outlinewidth": 0,
              "ticks": ""
             }
            },
            "marker": {
             "colorbar": {
              "outlinewidth": 0,
              "ticks": ""
             }
            },
            "type": "scatter3d"
           }
          ],
          "scattercarpet": [
           {
            "marker": {
             "colorbar": {
              "outlinewidth": 0,
              "ticks": ""
             }
            },
            "type": "scattercarpet"
           }
          ],
          "scattergeo": [
           {
            "marker": {
             "colorbar": {
              "outlinewidth": 0,
              "ticks": ""
             }
            },
            "type": "scattergeo"
           }
          ],
          "scattergl": [
           {
            "marker": {
             "line": {
              "color": "#283442"
             }
            },
            "type": "scattergl"
           }
          ],
          "scattermapbox": [
           {
            "marker": {
             "colorbar": {
              "outlinewidth": 0,
              "ticks": ""
             }
            },
            "type": "scattermapbox"
           }
          ],
          "scatterpolar": [
           {
            "marker": {
             "colorbar": {
              "outlinewidth": 0,
              "ticks": ""
             }
            },
            "type": "scatterpolar"
           }
          ],
          "scatterpolargl": [
           {
            "marker": {
             "colorbar": {
              "outlinewidth": 0,
              "ticks": ""
             }
            },
            "type": "scatterpolargl"
           }
          ],
          "scatterternary": [
           {
            "marker": {
             "colorbar": {
              "outlinewidth": 0,
              "ticks": ""
             }
            },
            "type": "scatterternary"
           }
          ],
          "surface": [
           {
            "colorbar": {
             "outlinewidth": 0,
             "ticks": ""
            },
            "colorscale": [
             [
              0,
              "#0d0887"
             ],
             [
              0.1111111111111111,
              "#46039f"
             ],
             [
              0.2222222222222222,
              "#7201a8"
             ],
             [
              0.3333333333333333,
              "#9c179e"
             ],
             [
              0.4444444444444444,
              "#bd3786"
             ],
             [
              0.5555555555555556,
              "#d8576b"
             ],
             [
              0.6666666666666666,
              "#ed7953"
             ],
             [
              0.7777777777777778,
              "#fb9f3a"
             ],
             [
              0.8888888888888888,
              "#fdca26"
             ],
             [
              1,
              "#f0f921"
             ]
            ],
            "type": "surface"
           }
          ],
          "table": [
           {
            "cells": {
             "fill": {
              "color": "#506784"
             },
             "line": {
              "color": "rgb(17,17,17)"
             }
            },
            "header": {
             "fill": {
              "color": "#2a3f5f"
             },
             "line": {
              "color": "rgb(17,17,17)"
             }
            },
            "type": "table"
           }
          ]
         },
         "layout": {
          "annotationdefaults": {
           "arrowcolor": "#f2f5fa",
           "arrowhead": 0,
           "arrowwidth": 1
          },
          "autotypenumbers": "strict",
          "coloraxis": {
           "colorbar": {
            "outlinewidth": 0,
            "ticks": ""
           }
          },
          "colorscale": {
           "diverging": [
            [
             0,
             "#8e0152"
            ],
            [
             0.1,
             "#c51b7d"
            ],
            [
             0.2,
             "#de77ae"
            ],
            [
             0.3,
             "#f1b6da"
            ],
            [
             0.4,
             "#fde0ef"
            ],
            [
             0.5,
             "#f7f7f7"
            ],
            [
             0.6,
             "#e6f5d0"
            ],
            [
             0.7,
             "#b8e186"
            ],
            [
             0.8,
             "#7fbc41"
            ],
            [
             0.9,
             "#4d9221"
            ],
            [
             1,
             "#276419"
            ]
           ],
           "sequential": [
            [
             0,
             "#0d0887"
            ],
            [
             0.1111111111111111,
             "#46039f"
            ],
            [
             0.2222222222222222,
             "#7201a8"
            ],
            [
             0.3333333333333333,
             "#9c179e"
            ],
            [
             0.4444444444444444,
             "#bd3786"
            ],
            [
             0.5555555555555556,
             "#d8576b"
            ],
            [
             0.6666666666666666,
             "#ed7953"
            ],
            [
             0.7777777777777778,
             "#fb9f3a"
            ],
            [
             0.8888888888888888,
             "#fdca26"
            ],
            [
             1,
             "#f0f921"
            ]
           ],
           "sequentialminus": [
            [
             0,
             "#0d0887"
            ],
            [
             0.1111111111111111,
             "#46039f"
            ],
            [
             0.2222222222222222,
             "#7201a8"
            ],
            [
             0.3333333333333333,
             "#9c179e"
            ],
            [
             0.4444444444444444,
             "#bd3786"
            ],
            [
             0.5555555555555556,
             "#d8576b"
            ],
            [
             0.6666666666666666,
             "#ed7953"
            ],
            [
             0.7777777777777778,
             "#fb9f3a"
            ],
            [
             0.8888888888888888,
             "#fdca26"
            ],
            [
             1,
             "#f0f921"
            ]
           ]
          },
          "colorway": [
           "#636efa",
           "#EF553B",
           "#00cc96",
           "#ab63fa",
           "#FFA15A",
           "#19d3f3",
           "#FF6692",
           "#B6E880",
           "#FF97FF",
           "#FECB52"
          ],
          "font": {
           "color": "#f2f5fa"
          },
          "geo": {
           "bgcolor": "rgb(17,17,17)",
           "lakecolor": "rgb(17,17,17)",
           "landcolor": "rgb(17,17,17)",
           "showlakes": true,
           "showland": true,
           "subunitcolor": "#506784"
          },
          "hoverlabel": {
           "align": "left"
          },
          "hovermode": "closest",
          "mapbox": {
           "style": "dark"
          },
          "paper_bgcolor": "rgb(17,17,17)",
          "plot_bgcolor": "rgb(17,17,17)",
          "polar": {
           "angularaxis": {
            "gridcolor": "#506784",
            "linecolor": "#506784",
            "ticks": ""
           },
           "bgcolor": "rgb(17,17,17)",
           "radialaxis": {
            "gridcolor": "#506784",
            "linecolor": "#506784",
            "ticks": ""
           }
          },
          "scene": {
           "xaxis": {
            "backgroundcolor": "rgb(17,17,17)",
            "gridcolor": "#506784",
            "gridwidth": 2,
            "linecolor": "#506784",
            "showbackground": true,
            "ticks": "",
            "zerolinecolor": "#C8D4E3"
           },
           "yaxis": {
            "backgroundcolor": "rgb(17,17,17)",
            "gridcolor": "#506784",
            "gridwidth": 2,
            "linecolor": "#506784",
            "showbackground": true,
            "ticks": "",
            "zerolinecolor": "#C8D4E3"
           },
           "zaxis": {
            "backgroundcolor": "rgb(17,17,17)",
            "gridcolor": "#506784",
            "gridwidth": 2,
            "linecolor": "#506784",
            "showbackground": true,
            "ticks": "",
            "zerolinecolor": "#C8D4E3"
           }
          },
          "shapedefaults": {
           "line": {
            "color": "#f2f5fa"
           }
          },
          "sliderdefaults": {
           "bgcolor": "#C8D4E3",
           "bordercolor": "rgb(17,17,17)",
           "borderwidth": 1,
           "tickwidth": 0
          },
          "ternary": {
           "aaxis": {
            "gridcolor": "#506784",
            "linecolor": "#506784",
            "ticks": ""
           },
           "baxis": {
            "gridcolor": "#506784",
            "linecolor": "#506784",
            "ticks": ""
           },
           "bgcolor": "rgb(17,17,17)",
           "caxis": {
            "gridcolor": "#506784",
            "linecolor": "#506784",
            "ticks": ""
           }
          },
          "title": {
           "x": 0.05
          },
          "updatemenudefaults": {
           "bgcolor": "#506784",
           "borderwidth": 0
          },
          "xaxis": {
           "automargin": true,
           "gridcolor": "#283442",
           "linecolor": "#506784",
           "ticks": "",
           "title": {
            "standoff": 15
           },
           "zerolinecolor": "#283442",
           "zerolinewidth": 2
          },
          "yaxis": {
           "automargin": true,
           "gridcolor": "#283442",
           "linecolor": "#506784",
           "ticks": "",
           "title": {
            "standoff": 15
           },
           "zerolinecolor": "#283442",
           "zerolinewidth": 2
          }
         }
        }
       }
      }
     },
     "metadata": {},
     "output_type": "display_data"
    }
   ],
   "source": [
    "#Map \n",
    "fig = px.choropleth_mapbox(df_states, locations='estado', color='casosNovos', geojson='brazil_states',\n",
    "                           center= {'lat': -16.95, 'lon': -47.78},\n",
    "                           zoom=4,\n",
    "                           color_continuous_scale='Redor', opacity=0.4, \n",
    "                           hover_data={'casosAcumulado':True, 'casosNovos':True, 'obitosNovos':True, 'estado':True})\n",
    "\n",
    "fig.update_layout(\n",
    "    paper_bgcolor='#242424',\n",
    "    autosize=True,\n",
    "    margin=dict(l=10,r=10,b=10,t=10),\n",
    "    showlegend=False,\n",
    "    mapbox_style='carto-darkmatter'\n",
    ")\n",
    "\n",
    "#Data \n",
    "fig2 = go.Figure(layout={'template': 'plotly_dark'})\n",
    "fig2.add_trace(go.Scatter(x=df_data['data'], y=df_data['casosAcumulado']))\n",
    "fig2.update_layout(\n",
    "    paper_bgcolor='#242424',\n",
    "    plot_bgcolor='#242424',\n",
    "    autosize=True,\n",
    "    margin=None\n",
    ")"
   ]
  },
  {
   "cell_type": "markdown",
   "id": "2a39f0a8",
   "metadata": {},
   "source": [
    "#### Third step: Bulding the App, Functions and Server"
   ]
  },
  {
   "cell_type": "code",
   "execution_count": 72,
   "id": "e1f887fb",
   "metadata": {},
   "outputs": [
    {
     "name": "stdout",
     "output_type": "stream",
     "text": [
      "Dash is running on http://127.0.0.1:8050/\n",
      "\n",
      "Dash is running on http://127.0.0.1:8050/\n",
      "\n",
      "Dash is running on http://127.0.0.1:8050/\n",
      "\n",
      "Dash is running on http://127.0.0.1:8050/\n",
      "\n",
      " * Serving Flask app \"__main__\" (lazy loading)\n",
      " * Environment: production\n",
      "\u001b[31m   WARNING: This is a development server. Do not use it in a production deployment.\u001b[0m\n",
      "\u001b[2m   Use a production WSGI server instead.\u001b[0m\n",
      " * Debug mode: on\n"
     ]
    }
   ],
   "source": [
    "app.layout = dbc.Container(\n",
    "    dbc.Row([\n",
    "        \n",
    "       dbc.Col([\n",
    "            html.Div([\n",
    "                html.Img(id='logo', src=app.get_asset_url('logo.png'), height=50),\n",
    "                html.H5('Covid-19 Evolution'),\n",
    "                dbc.Button('BRASIL', color='primary', id='location-button', size='lg') \n",
    "            ], style={}),\n",
    "           html.P('Informe a data na qual deseja obter informações:', style={'margin-top': '40px'}),\n",
    "           html.Div(id='div-test',children=[\n",
    "               dcc.DatePickerSingle(\n",
    "                   id='date-picker',\n",
    "                   min_date_allowed=df_brazil['data'].min(),\n",
    "                   max_date_allowed=df_brazil['data'].max(),\n",
    "                   initial_visible_month=df_brazil['data'].min(),\n",
    "                   date=df_brazil['data'].max(),\n",
    "                   display_format='MMM D, YYYY',\n",
    "                   style={'border' : '0px solid black'}\n",
    "               )\n",
    "           ]),\n",
    "           \n",
    "            dbc.Row([\n",
    "                dbc.Col([\n",
    "                    dbc.Card([\n",
    "                        dbc.CardBody([\n",
    "                            html.Span('Casos recuperados'),\n",
    "                            html.H4(style={'color':'#adfc92'}, id='casos-recuperados-text'),\n",
    "                            html.Span('Em acompanhamento'),\n",
    "                            html.H6(id='em-acompanhamento-text'),\n",
    "                        ])\n",
    "                    ], color='light', outline=True, style={'margin-top':'10px',\n",
    "                                     'box-shadow': '0 4px 4px 0 rgba(0, 0, 0, 0.15), 0 4px 20px 0 rgba(0,0,0,0.19)',\n",
    "                                     'color':'#FFFFFF'})\n",
    "                ], md=4),\n",
    "                dbc.Col([\n",
    "                    dbc.Card([\n",
    "                        dbc.CardBody([\n",
    "                            html.Span('Casos confirmados totais'),\n",
    "                            html.H4(style={'color':'#389fd6'}, id='casos-confirmados-text'),\n",
    "                            html.Span('Novos casos na data'),\n",
    "                            html.H6(id='novos-casos-text'),\n",
    "                        ])\n",
    "                    ], color='light', outline=True, style={'margin-top':'10px',\n",
    "                                     'box-shadow': '0 4px 4px 0 rgba(0, 0, 0, 0.15), 0 4px 20px 0 rgba(0,0,0,0.19)',\n",
    "                                     'color':'#FFFFFF'})\n",
    "                ], md=4),\n",
    "                dbc.Col([\n",
    "                    dbc.Card([\n",
    "                        dbc.CardBody([\n",
    "                            html.Span('Óbitos confirmadoss'),\n",
    "                            html.H4(style={'color':'#df2935'}, id='obitos-text'),\n",
    "                            html.Span('Óbitos na data'),\n",
    "                            html.H6(id='obitos-na-data-text'),\n",
    "                        ])\n",
    "                    ], color='light', outline=True, style={'margin-top':'10px',\n",
    "                                     'box-shadow': '0 4px 4px 0 rgba(0, 0, 0, 0.15), 0 4px 20px 0 rgba(0,0,0,0.19)',\n",
    "                                     'color':'#FFFFFF'})\n",
    "                ], md=4),\n",
    "           ]),\n",
    "           \n",
    "           html.Div([\n",
    "               html.P('Selecione o tipo de dado que deseja visualizar:', style={'margin-top': '25px'}),\n",
    "               dcc.Dropdown(id='location-dropdown',\n",
    "                            options=[{'label': j,'value': i} for i, j in select_columns.items()],\n",
    "                            value='casosNovos',\n",
    "                            style={'margin-top':'10px'}\n",
    "                           ),\n",
    "           ]),\n",
    "           \n",
    "           dcc.Graph(id='line-graph', figure=fig2)\n",
    "        ], md=5, style={'padding': '25px', 'background-color': '#242424'}),\n",
    "        \n",
    "        dbc.Col([\n",
    "            dcc.Loading(id='loading-1', type='default',\n",
    "            children=[\n",
    "                dcc.Graph(id='choropleth-map', figure=fig, style={'height': '100vh', 'margin-right' : '10px'})])\n",
    "        ], md=7)\n",
    "    ], class_name='g-0')\n",
    ", fluid=True)\n",
    "\n",
    "#Interactivity cards\n",
    "@app.callback(\n",
    "   [\n",
    "       Output('casos-recuperados-text','children'),\n",
    "       Output('em-acompanhamento-text','children'),\n",
    "       Output('casos-confirmados-text','children'),\n",
    "       Output('novos-casos-text','children'),\n",
    "       Output('obitos-text','children'),\n",
    "       Output('obitos-na-data-text','children'),\n",
    "   ],\n",
    "   [Input('date-picker','date'), Input('location-button','children')]\n",
    "   )\n",
    "\n",
    "def display_status(date, location):\n",
    "    if location =='BRASIL':\n",
    "        df_data_on_date= df_brazil[df_brazil['data']== date]\n",
    "    \n",
    "    else:\n",
    "        df_data_on_date = df_states[(df_states['estado'] == location) & (df_states['data'] == date)]\n",
    "        \n",
    "    df_data_on_date['Recuperadosnovos']\n",
    "    recuperados_novos= '-' if df_data_on_date['Recuperadosnovos'].isna().values[0] else f\"{int(df_data_on_date['Recuperadosnovos'].values[0]):,}\".replace(',','.')\n",
    "    acompanhamentos_novos= '-' if df_data_on_date['emAcompanhamentoNovos'].isna().values[0] else f\"{int(df_data_on_date['emAcompanhamentoNovos'].values[0]):,}\".replace(',','.')\n",
    "    casos_acumulados= '-' if df_data_on_date['casosAcumulado'].isna().values[0] else f\"{int(df_data_on_date['casosAcumulado'].values[0]):,}\".replace(',','.')\n",
    "    casos_novos= '-' if df_data_on_date['casosNovos'].isna().values[0] else f\"{int(df_data_on_date['casosNovos'].values[0]):,}\".replace(',','.')\n",
    "    obitos_acumulado = '-' if df_data_on_date['obitosAcumulado'].isna().values[0] else f\"{int(df_data_on_date['obitosAcumulado'].values[0]):,}\".replace(',','.')\n",
    "    obitos_novos= '-' if df_data_on_date['obitosNovos'].isna().values[0] else f\"{int(df_data_on_date['obitosNovos'].values[0]):,}\".replace(',','.')                                          \n",
    "    \n",
    "    return (recuperados_novos,\n",
    "            acompanhamentos_novos,\n",
    "            casos_acumulados,\n",
    "            casos_novos,\n",
    "            obitos_acumulado,\n",
    "            obitos_novos)\n",
    "\n",
    "#Update the graph according to type\n",
    "\n",
    "@app.callback(Output(\"line-graph\",\"figure\"),\n",
    "       [\n",
    "           Input(\"location-dropdown\",\"value\"), Input(\"location-button\",\"children\"),\n",
    "       ]\n",
    "       )\n",
    "def plot_line_graph(plot_type, location):\n",
    "    if location ==\"BRASIL\":\n",
    "        df_data_on_location = df_brazil.copy()\n",
    "    else:\n",
    "        df_data_on_location = df_states[df_states[\"estado\"] == location]\n",
    "        \n",
    "    bar_plots = [\"casosNovos\", \"obitosNovos\"]\n",
    "    \n",
    "    fig2 = go.Figure(layout={\"template\":\"plotly_dark\"})\n",
    "    \n",
    "    if plot_type in bar_plots:\n",
    "        fig2.add_trace(go.Bar(x=df_data_on_location['data'], y=df_data_on_location[plot_type]))\n",
    "    else:\n",
    "        fig2.add_trace(go.Scatter(x=df_data_on_location['data'], y=df_data_on_location[plot_type]))\n",
    "    \n",
    "    fig2.update_layout(\n",
    "        paper_bgcolor=\"#242424\",\n",
    "        plot_bgcolor=\"#242424\",\n",
    "        autosize=True,\n",
    "        margin=dict(l=10,r=10,b=10,t=10),\n",
    "    )\n",
    "    return fig2\n",
    "\n",
    "# Update map according to the date\n",
    "\n",
    "@app.callback(\n",
    "   Output(\"choropleth-map\",\"figure\"),\n",
    "    [Input(\"date-picker\",\"date\")]\n",
    ")\n",
    "def update_map(date):\n",
    "    df_data_on_states = df_states[df_states[\"data\"] == date]\n",
    "    \n",
    "    fig = px.choropleth_mapbox(df_data_on_states, locations=\"estado\", geojson=brazil_states,\n",
    "       center={\"lat\":CENTER_LAT,\"lon\":CENTER_LON},\n",
    "       zoom=4, color=\"casosAcumulado\", color_continuous_scale=\"Redor\", opacity=0.55,\n",
    "       hover_data={\"casosAcumulado\":True,\"casosNovos\":True,\"obitosNovos\":True,\"estado\":False}\n",
    "       )\n",
    "    \n",
    "    fig.update_layout(paper_bgcolor=\"#242424\", mapbox_style=\"carto-darkmatter\", autosize=True,\n",
    "                  margin = go.layout.Margin(l=0, r=8, t=8, b=0), showlegend=False)\n",
    "    return fig\n",
    "\n",
    "\n",
    "#Reset to Brazil the data\n",
    "\n",
    "@app.callback(\n",
    "    Output('location-button', 'children'),\n",
    "    [Input('choropleth-map', 'clickData'), Input('location-button', 'n_clicks')]\n",
    ")\n",
    "\n",
    "def update_location(click_data, n_clicks):\n",
    "    changed_id = [p['prop_id'] for p in dash.callback_context.triggered][0]\n",
    "    if click_data is not None and changed_id != 'location-button.n_clicks':\n",
    "        state = click_data['points'][0]['location']\n",
    "        return '{}'.format(state)\n",
    "    else:\n",
    "        return 'BRASIL'\n",
    "\n",
    "if __name__ == '__main__':\n",
    "    app.run_server(debug=True, use_reloader=False)"
   ]
  },
  {
   "cell_type": "code",
   "execution_count": null,
   "id": "b4a3a59d",
   "metadata": {},
   "outputs": [],
   "source": []
  }
 ],
 "metadata": {
  "kernelspec": {
   "display_name": "Python 3 (ipykernel)",
   "language": "python",
   "name": "python3"
  },
  "language_info": {
   "codemirror_mode": {
    "name": "ipython",
    "version": 3
   },
   "file_extension": ".py",
   "mimetype": "text/x-python",
   "name": "python",
   "nbconvert_exporter": "python",
   "pygments_lexer": "ipython3",
   "version": "3.9.7"
  },
  "vscode": {
   "interpreter": {
    "hash": "ad2bdc8ecc057115af97d19610ffacc2b4e99fae6737bb82f5d7fb13d2f2c186"
   }
  }
 },
 "nbformat": 4,
 "nbformat_minor": 5
}
